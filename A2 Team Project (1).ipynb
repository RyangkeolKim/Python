{
 "cells": [
  {
   "cell_type": "markdown",
   "id": "fd1d9879",
   "metadata": {},
   "source": [
    "<hr style=\"height:.9px;border:none;color:#333;background-color:#333;\" />\n",
    "<hr style=\"height:.9px;border:none;color:#333;background-color:#333;\" /><br><br>\n",
    "\n",
    "<h1>Team Assignment</h1><br><br>\n",
    "\n",
    "\n",
    "\n",
    "<em><strong>A2: Unsupervised Analysis Project </strong></em><br>\n",
    "\n",
    "Machine Learning - DAT-5303 - BMBAN2<br><br>\n",
    "\n",
    "<strong>Team 18</strong><br>\n",
    "Martine Elisabeth Stø Johansen<br>\n",
    "Juan Pedro Ballester Vives<br>\n",
    "Ryangkeol Kim<br>\n",
    "Neha Samson<br>\n",
    "    \n",
    "<hr style=\"height:.9px;border:none;color:#333;background-color:#333;\" />\n",
    "<hr style=\"height:.9px;border:none;color:#333;background-color:#333;\" />"
   ]
  },
  {
   "cell_type": "markdown",
   "id": "e593359f",
   "metadata": {},
   "source": [
    "## Executive Summary "
   ]
  },
  {
   "cell_type": "markdown",
   "id": "1b2d9d47",
   "metadata": {},
   "source": [
    "Mobile apps are an integral part of our daily lives, as people on average spend as much as four to five hours daily on their phones (Statistica, 2021). This analysis of app download behavior discovered that data of behaviour psychometrics can find more similarities than demographic filtering, showing the importance of making decisions based behavioural data instead of demographic. We found three main clusters with similar behavior, and we recommend the following approach for each segment, to ensure targeted marketing:<br><br>\n",
    "\n",
    "\n",
    "<strong>Recommendations</strong>\n",
    "\n",
    "1. SoMe App Users: Show value and customizability. \n",
    "2. Online Streamers: Focus on main social media platforms and improve algorithms.\n",
    "3. Lifestyle App Users: Market apps that cover a range of functions.\n",
    "\n",
    "<hr style=\"height:.9px;border:none;color:#333;background-color:#333;\" />"
   ]
  },
  {
   "cell_type": "markdown",
   "id": "025d2fed",
   "metadata": {},
   "source": [
    "## Our Task Head"
   ]
  },
  {
   "cell_type": "markdown",
   "id": "f403d3c6",
   "metadata": {},
   "source": [
    "The problem we are facing is to segment the mobile users into different categories, to find patterns so the marketing team can target specific groups. This is because they can be more susceptible or show a tendency of downloading certain types of apps. Qualitative and quantitative data about users has been analyzed to help understand people’s behavior. Creating clusters patterns can be found to predict consumers behaviors and help to target the desired groups. \n",
    "<hr style=\"height:.9px;border:none;color:#333;background-color:#333;\" />"
   ]
  },
  {
   "cell_type": "markdown",
   "id": "1f63fcb2",
   "metadata": {},
   "source": [
    "## Market Overview"
   ]
  },
  {
   "cell_type": "markdown",
   "id": "3b354c4d",
   "metadata": {},
   "source": [
    "To improve our analysis and decisions, a good overview of the market is needed.  The mobile app market is growing. By 2023 it is expected to produce over $935 billion in revenue (Cook, D.  2020). Apple App Store offers 1.96 million apps for downloads with a 2.5% growth rate, and Google Play Store offers 2.8 million, growing by 31% in 2020 (Cook, D.  2020).  Growth is expected to increase in the future. \n",
    "\n",
    "<hr style=\"height:.9px;border:none;color:#333;background-color:#333;\" />"
   ]
  },
  {
   "cell_type": "code",
   "execution_count": 1,
   "id": "4eeef37e",
   "metadata": {},
   "outputs": [],
   "source": [
    "# importing packages \n",
    "import numpy             as np                   \n",
    "import pandas            as pd                   \n",
    "import matplotlib.pyplot as plt                  \n",
    "import seaborn           as sns                  \n",
    "from sklearn.preprocessing import StandardScaler \n",
    "from sklearn.decomposition import PCA      \n",
    "from scipy.cluster.hierarchy import dendrogram, linkage # dendrograms\n",
    "from sklearn.cluster         import KMeans # k-means clustering\n",
    "\n",
    "\n",
    "# loading data\n",
    "app_survey = pd.read_excel('./Mobile_App_Survey_Data.xlsx')"
   ]
  },
  {
   "cell_type": "markdown",
   "id": "07246cad",
   "metadata": {},
   "source": [
    "#  User-Defined Functions"
   ]
  },
  {
   "cell_type": "code",
   "execution_count": 2,
   "id": "1906dd9b",
   "metadata": {},
   "outputs": [],
   "source": [
    "########################################\n",
    "# scree_plot\n",
    "########################################\n",
    "def scree_plot(pca_object, export = False, axvline = False):\n",
    "    # building a scree plot\n",
    "\n",
    "    # setting plot size\n",
    "    fig, ax = plt.subplots(figsize=(10, 8))\n",
    "    features = range(pca_object.n_components_)\n",
    "\n",
    "\n",
    "    # developing a scree plot\n",
    "    plt.plot(features,\n",
    "             pca_object.explained_variance_ratio_,\n",
    "             linewidth = 2,\n",
    "             marker = 'o',\n",
    "             markersize = 10,\n",
    "             markeredgecolor = 'black',\n",
    "             markerfacecolor = 'grey')\n",
    "\n",
    "    \n",
    "\n",
    "    # setting more plot options\n",
    "    plt.title('Scree Plot')\n",
    "    plt.xlabel('PCA feature')\n",
    "    plt.ylabel('Explained Variance')\n",
    "    plt.xticks(features)\n",
    "    \n",
    "    #  add vertical lines to the code\n",
    "    if axvline != False:\n",
    "        plt.axvline(x = axvline,\n",
    "                    color = 'red')\n",
    "    \n",
    "    if export == True:\n",
    "    \n",
    "        # exporting the plot\n",
    "        plt.savefig('./__analysis_images/top_customers_correlation_scree_plot.png')\n",
    "        \n",
    "    # displaying the plot\n",
    "    plt.show()\n",
    "\n",
    "\n",
    "########################################\n",
    "# unsupervised_scaler\n",
    "########################################\n",
    "def unsupervised_scaler(df):\n",
    "    \"\"\"\n",
    "    Standardizes a dataset (mean = 0, variance = 1). Returns a new DataFrame.\n",
    "    Requires sklearn.preprocessing.StandardScaler()\n",
    "    \n",
    "    PARAMETERS\n",
    "    ----------\n",
    "    df     | DataFrame to be used for scaling\n",
    "    \"\"\"\n",
    "\n",
    "    # INSTANTIATING a StandardScaler() object\n",
    "    scaler = StandardScaler()\n",
    "\n",
    "\n",
    "    # FITTING the scaler with the data\n",
    "    scaler.fit(df)\n",
    "\n",
    "\n",
    "    # TRANSFORMING our data after fit\n",
    "    x_scaled = scaler.transform(df)\n",
    "\n",
    "    \n",
    "    # converting scaled data into a DataFrame\n",
    "    new_df = pd.DataFrame(x_scaled)\n",
    "\n",
    "\n",
    "    # reattaching column names\n",
    "    new_df.columns = df.columns\n",
    "    \n",
    "    return new_df"
   ]
  },
  {
   "cell_type": "markdown",
   "id": "397e9a3a",
   "metadata": {},
   "source": [
    "# Analysis"
   ]
  },
  {
   "cell_type": "markdown",
   "id": "22ec05d5",
   "metadata": {},
   "source": [
    "The first section will focus on likert scales data and intervals. Later, categorical data will be included with  all the other categories combined, to create clusters. Then we include demographic data at the end with our final analysis using boxplots. \n",
    "\n",
    "<hr style=\"height:.9px;border:none;color:#333;background-color:#333;\" />"
   ]
  },
  {
   "cell_type": "markdown",
   "id": "eac1c6af",
   "metadata": {},
   "source": [
    "# Features"
   ]
  },
  {
   "cell_type": "markdown",
   "id": "8dec328b",
   "metadata": {},
   "source": [
    "## Remaning"
   ]
  },
  {
   "cell_type": "code",
   "execution_count": 3,
   "id": "40f1ef29",
   "metadata": {},
   "outputs": [],
   "source": [
    "# Setting new names for questions, to make it easier to work with\n",
    "names = ['id_case','q1_age','q2_iphone','q2_ipod','q2_android','q2_blackberry',\n",
    "         'q2_nokia','q2_windows','q2_hp','q2_tablet','q2_other','q2_none',\n",
    "         'q4_music_sound','q4_tv','q4_entertainment','q4_tv_shows','q4_gaming',\n",
    "         'q4_social','q4_general_news','q4_shopping','q4_specific_news','q4_other',\n",
    "         'q4_none', 'q11_nr_apps','q12_free_pct','q13_visits_facebook',\n",
    "         'q13_visits_twitter','q13_visits_myspace','q13_visits_pandora',\n",
    "         'q13_visits_vevo','q13_visits_youtube','q13_visits_aol',\n",
    "         'q13_visits_lastfm','q13_visits_yahoo','q13_visits_imdb',\n",
    "         'q13_visits_linkedin','q13_visits_netflix','q24_tec_dev',\n",
    "         'q24_tec_advisor','q24_new_gad','q24_much_tec','q24_enjoy_tec',\n",
    "         'q24_save_time','q24_music','q24_tv_show','q24_much_inf','q24_sns',\n",
    "         'q24_family','q24_avoid_family','q25_opinion_leader','q25_stand_out',\n",
    "         'q25_offer_advice','q25_lead_decision','q25_first_new',\n",
    "         'q25_responsibility','q25_control','q25_risk_taker','q25_creative',\n",
    "         'q25_optimistic','q25_active','q25_stretched_time','q26_luxury_brand',\n",
    "         'q26_discount','q26_shopping','q26_package_deal','q26_online_shop',\n",
    "         'q26_designer_brand','q26_not_enough_app','q26_not_number_app','q26_new_app',\n",
    "         'q26_child_impact','q26_extra_pay','q26_earning_money','q26_trend',\n",
    "         'q26_brand_reflect','q26_impulse_purchases','q26_entertainment',\n",
    "         'q48_education','q49_married','q50_nochild','q50_child<6','q50_child6-12',\n",
    "         'q50_child13-17','q50_child>18','q54_race','q55_latino','q56_income',\n",
    "         'q57_gender',]\n",
    "\n",
    "# Renaming questions\n",
    "app_survey.columns = names"
   ]
  },
  {
   "cell_type": "markdown",
   "id": "cdbf4af3",
   "metadata": {},
   "source": [
    "## Feature engineering "
   ]
  },
  {
   "cell_type": "code",
   "execution_count": 4,
   "id": "58225d27",
   "metadata": {},
   "outputs": [],
   "source": [
    "# Creating a dummy column \n",
    "app_survey['Children_status'] = 0\n",
    "\n",
    "# Using itterrows to replace previous column with new column\n",
    "for index, col in app_survey.iterrows():\n",
    "    \n",
    "    # Conditionals to set the values in the new column\n",
    "    if app_survey.loc[index, 'q50_nochild'] == 1:\n",
    "        app_survey.loc[index, 'Children_status'] = 'no_children'\n",
    "        \n",
    "    elif app_survey.loc[index, 'q50_child<6'] == 1:\n",
    "        app_survey.loc[index, 'Children_status'] = 'children_under_6'\n",
    "\n",
    "    elif app_survey.loc[index, 'q50_child6-12'] == 1:\n",
    "        app_survey.loc[index, 'Children_status'] = 'children_between_6-12'   \n",
    "    \n",
    "    elif app_survey.loc[index, 'q50_child13-17'] == 1:\n",
    "        app_survey.loc[index, 'Children_status'] = 'children_between_13-17'\n",
    "        \n",
    "    elif app_survey.loc[index, 'q50_child>18'] == 1:\n",
    "        app_survey.loc[index, 'Children_status'] = 'children_over_18'"
   ]
  },
  {
   "cell_type": "code",
   "execution_count": 5,
   "id": "dad59c50",
   "metadata": {},
   "outputs": [],
   "source": [
    "# Creating a dummy column \n",
    "app_survey['Device'] = 0\n",
    "\n",
    "# Using itterrows to replace previous column with new column\n",
    "for index, col in app_survey.iterrows():\n",
    "    \n",
    "    # Conditionals to set the values in the new column\n",
    "    if app_survey.loc[index, 'q2_iphone'] == 1:\n",
    "        app_survey.loc[index, 'Device'] = 'iPhone'\n",
    "        \n",
    "    elif app_survey.loc[index, 'q2_ipod'] == 1:\n",
    "        app_survey.loc[index, 'Device'] = 'iPod'\n",
    "\n",
    "    elif app_survey.loc[index, 'q2_android'] == 1:\n",
    "        app_survey.loc[index, 'Device'] = 'Android'   \n",
    "    \n",
    "    elif app_survey.loc[index, 'q2_blackberry'] == 1:\n",
    "        app_survey.loc[index, 'Device'] = 'Blackberry'\n",
    "\n",
    "    elif app_survey.loc[index, 'q2_nokia'] == 1:\n",
    "        app_survey.loc[index, 'Device'] = 'Nokia'   \n",
    "        \n",
    "    elif app_survey.loc[index, 'q2_windows'] == 1:\n",
    "        app_survey.loc[index, 'Device'] = 'Windows'\n",
    "\n",
    "    elif app_survey.loc[index, 'q2_hp'] == 1:\n",
    "        app_survey.loc[index, 'Device'] = 'HP'   \n",
    "        \n",
    "    elif app_survey.loc[index, 'q2_tablet'] == 1:\n",
    "        app_survey.loc[index, 'Device'] = 'Tablet'   \n",
    "        \n",
    "    elif app_survey.loc[index, 'q2_other'] == 1:\n",
    "        app_survey.loc[index, 'Device'] = 'Other'\n",
    "\n",
    "    elif app_survey.loc[index, 'q2_none'] == 1:\n",
    "        app_survey.loc[index, 'Device'] = 'None'  "
   ]
  },
  {
   "cell_type": "code",
   "execution_count": 6,
   "id": "0da24edd",
   "metadata": {},
   "outputs": [],
   "source": [
    "# Combining similar apps to fewer variations\n",
    "\n",
    "# Creating a dummy column \n",
    "app_survey['q4_TV_entertainment'] = 0\n",
    "\n",
    "# Using itterrows to replace previous column with new column formated to fit\n",
    "for index, col in app_survey.iterrows():\n",
    "    \n",
    "    # Conditionals to set the values in the new column\n",
    "    if app_survey.loc[index, 'q4_tv'] == 1:\n",
    "        app_survey.loc[index, 'q4_TV_entertainment'] = 1\n",
    "        \n",
    "    elif app_survey.loc[index, 'q4_entertainment'] == 1:\n",
    "        app_survey.loc[index, 'q4_TV_entertainment'] = 1\n",
    "\n",
    "    elif app_survey.loc[index, 'q4_tv_shows'] == 1:\n",
    "        app_survey.loc[index, 'q4_TV_entertainment'] = 1  \n",
    "    \n",
    "\n",
    "    \n",
    "    \n",
    "# Creating a dummy column \n",
    "app_survey['q4_news'] = 0\n",
    "\n",
    "# Using itterrows to replace previous column with new column formated to fit\n",
    "for index, col in app_survey.iterrows():\n",
    "    \n",
    "    # Conditionals to set the values in the new column\n",
    "    if app_survey.loc[index, 'q4_general_news'] == 1:\n",
    "        app_survey.loc[index, 'q4_news'] = 1\n",
    "        \n",
    "    elif app_survey.loc[index, 'q4_specific_news'] == 1:\n",
    "        app_survey.loc[index, 'q4_news'] = 1\n"
   ]
  },
  {
   "cell_type": "markdown",
   "id": "23e6a8d4",
   "metadata": {},
   "source": [
    "## Categorizing"
   ]
  },
  {
   "cell_type": "code",
   "execution_count": 7,
   "id": "2658aa7f",
   "metadata": {},
   "outputs": [],
   "source": [
    "# Creating a category with demographics \n",
    "demographics = ['q1_age', 'q48_education', 'q49_married', 'Children_status', \n",
    "                'q54_race', 'q55_latino', 'q56_income', 'q57_gender']"
   ]
  },
  {
   "cell_type": "code",
   "execution_count": 8,
   "id": "a50ad4fc",
   "metadata": {},
   "outputs": [],
   "source": [
    "# Creating a category with channels \n",
    "channels = app_survey['Device'] "
   ]
  },
  {
   "cell_type": "code",
   "execution_count": 9,
   "id": "9af08fff",
   "metadata": {},
   "outputs": [],
   "source": [
    "# creating a category with dummies based on q4\n",
    "dummies = ['q4_music_sound', 'q4_TV_entertainment' ,'q4_gaming',\n",
    "            'q4_social','q4_shopping', 'q4_news','q4_other',\n",
    "            'q4_none']\n",
    "\n",
    "# Creating a category with app behaviour \n",
    "app_behaviour = ['q11_nr_apps','q12_free_pct','q13_visits_facebook',\n",
    "             'q13_visits_twitter','q13_visits_myspace','q13_visits_pandora',\n",
    "             'q13_visits_vevo','q13_visits_youtube','q13_visits_aol',\n",
    "             'q13_visits_lastfm','q13_visits_yahoo','q13_visits_imdb',\n",
    "             'q13_visits_linkedin','q13_visits_netflix' ]"
   ]
  },
  {
   "cell_type": "code",
   "execution_count": 10,
   "id": "67578454",
   "metadata": {},
   "outputs": [],
   "source": [
    "# Creating a sublist to easily insert and remove from Likert list\n",
    "q24 = ['q24_tec_dev','q24_tec_advisor','q24_new_gad','q24_much_tec','q24_enjoy_tec',\n",
    "         'q24_save_time','q24_music','q24_tv_show','q24_much_inf','q24_sns',\n",
    "         'q24_family','q24_avoid_family']\n",
    "\n",
    "q25 = ['q25_opinion_leader','q25_stand_out',\n",
    "         'q25_offer_advice','q25_lead_decision','q25_first_new',\n",
    "         'q25_responsibility','q25_control','q25_risk_taker','q25_creative',\n",
    "         'q25_optimistic','q25_active','q25_stretched_time']\n",
    "\n",
    "\n",
    "q26 = ['q26_luxury_brand',\n",
    "         'q26_discount','q26_shopping','q26_package_deal','q26_online_shop',\n",
    "         'q26_designer_brand','q26_not_enough_app','q26_not_number_app','q26_new_app',\n",
    "         'q26_child_impact','q26_extra_pay','q26_earning_money','q26_trend',\n",
    "         'q26_brand_reflect','q26_impulse_purchases','q26_entertainment']\n",
    "\n",
    "# creating list with the subslists\n",
    "likert = q24 + q25 + q26"
   ]
  },
  {
   "cell_type": "markdown",
   "id": "9f81e30d",
   "metadata": {},
   "source": [
    "## Log tranform"
   ]
  },
  {
   "cell_type": "code",
   "execution_count": 11,
   "id": "800f01d5",
   "metadata": {},
   "outputs": [],
   "source": [
    "# looping to logarithmically transform features\n",
    "for col in app_survey:\n",
    "    if col in likert:\n",
    "        app_survey[f\"log_{col}\"] = np.log(app_survey[col])"
   ]
  },
  {
   "cell_type": "code",
   "execution_count": 12,
   "id": "30d27aac",
   "metadata": {},
   "outputs": [],
   "source": [
    "# looping to logarithmically transform features\n",
    "for col in app_survey:\n",
    "    if col in app_behaviour:\n",
    "        app_survey[f\"log_{col}\"] = np.log(app_survey[col])"
   ]
  },
  {
   "cell_type": "markdown",
   "id": "426ff9d3",
   "metadata": {},
   "source": [
    "## Scaling"
   ]
  },
  {
   "cell_type": "code",
   "execution_count": 13,
   "id": "c4756cb9",
   "metadata": {},
   "outputs": [],
   "source": [
    "#  creating list of columns to use\n",
    "keep_lst = []\n",
    "\n",
    "for value in likert:\n",
    "    keep_lst.append('log_' + value)"
   ]
  },
  {
   "cell_type": "code",
   "execution_count": 14,
   "id": "11600ebe",
   "metadata": {},
   "outputs": [],
   "source": [
    "#  creating list of columns to use\n",
    "keep_lst2 = []\n",
    "\n",
    "for value in app_behaviour:\n",
    "    keep_lst2.append('log_' + value)"
   ]
  },
  {
   "cell_type": "code",
   "execution_count": 15,
   "id": "3d0d0a9d",
   "metadata": {},
   "outputs": [],
   "source": [
    "# transposing datafram to scaling user responses \n",
    "\n",
    "# dropping demographic information\n",
    "likert = app_survey[keep_lst]\n",
    "\n",
    "likert = likert.transpose()\n",
    "\n",
    "# applying the unsupervised_scaler function\n",
    "likert_scaled = unsupervised_scaler(df = likert)\n",
    "\n",
    "likert_scaled = likert_scaled.transpose()\n",
    "likert = likert.transpose()"
   ]
  },
  {
   "cell_type": "code",
   "execution_count": 16,
   "id": "9396b00c",
   "metadata": {},
   "outputs": [],
   "source": [
    "# transposeing dataframe back to original structure\n",
    "\n",
    "# applying the unsupervised_scaler function\n",
    "likert_scaled = unsupervised_scaler(df = likert_scaled)\n"
   ]
  },
  {
   "cell_type": "code",
   "execution_count": 17,
   "id": "3e29d28d",
   "metadata": {},
   "outputs": [],
   "source": [
    "# transposeing dataframe back to original structure\n",
    "\n",
    "# dropping demographic information\n",
    "app_behaviour = app_survey[keep_lst2]\n",
    "\n",
    "# applying the unsupervised_scaler function\n",
    "app_behaviour_scaled = unsupervised_scaler(df = app_behaviour)\n"
   ]
  },
  {
   "cell_type": "markdown",
   "id": "a5a18e2b",
   "metadata": {},
   "source": [
    "# PCA"
   ]
  },
  {
   "cell_type": "markdown",
   "id": "f0f51d46",
   "metadata": {},
   "source": [
    "## Likert"
   ]
  },
  {
   "cell_type": "code",
   "execution_count": 18,
   "id": "6fd99e4e",
   "metadata": {},
   "outputs": [],
   "source": [
    "# instanting a PCA object with no limit to principal components\n",
    "pca = PCA(n_components = None,\n",
    "            random_state = 219)\n",
    "\n",
    "\n",
    "# fitting and transforming the scaled data\n",
    "app_survey_pca = pca.fit_transform(likert_scaled)\n"
   ]
  },
  {
   "cell_type": "markdown",
   "id": "e4daebb4",
   "metadata": {},
   "source": [
    "## Behaviour"
   ]
  },
  {
   "cell_type": "code",
   "execution_count": 19,
   "id": "0957f547",
   "metadata": {},
   "outputs": [],
   "source": [
    "# instanting a PCA object with no limit to principal components\n",
    "pca_app_behaviour = PCA(n_components = None,\n",
    "            random_state = 219)\n",
    "\n",
    "\n",
    "# fitting and transforming the scaled data\n",
    "app_behaviour_pca = pca_app_behaviour.fit_transform(app_behaviour)\n"
   ]
  },
  {
   "cell_type": "markdown",
   "id": "14af020b",
   "metadata": {},
   "source": [
    "## PC Determination "
   ]
  },
  {
   "cell_type": "markdown",
   "id": "9c58097f",
   "metadata": {},
   "source": [
    "### Likert"
   ]
  },
  {
   "cell_type": "code",
   "execution_count": 20,
   "id": "2f718555",
   "metadata": {},
   "outputs": [
    {
     "name": "stdout",
     "output_type": "stream",
     "text": [
      "PC 1: 0.087\n",
      "PC 2: 0.066\n",
      "PC 3: 0.061\n",
      "PC 4: 0.043\n",
      "PC 5: 0.036\n",
      "PC 6: 0.032\n",
      "PC 7: 0.031\n",
      "PC 8: 0.031\n",
      "PC 9: 0.029\n",
      "PC 10: 0.028\n",
      "PC 11: 0.026\n",
      "PC 12: 0.025\n",
      "PC 13: 0.025\n",
      "PC 14: 0.024\n",
      "PC 15: 0.023\n",
      "PC 16: 0.023\n",
      "PC 17: 0.022\n",
      "PC 18: 0.021\n",
      "PC 19: 0.021\n",
      "PC 20: 0.021\n",
      "PC 21: 0.02\n",
      "PC 22: 0.02\n",
      "PC 23: 0.019\n",
      "PC 24: 0.019\n",
      "PC 25: 0.018\n",
      "PC 26: 0.018\n",
      "PC 27: 0.018\n",
      "PC 28: 0.017\n",
      "PC 29: 0.017\n",
      "PC 30: 0.017\n",
      "PC 31: 0.016\n",
      "PC 32: 0.016\n",
      "PC 33: 0.016\n",
      "PC 34: 0.015\n",
      "PC 35: 0.015\n",
      "PC 36: 0.014\n",
      "PC 37: 0.013\n",
      "PC 38: 0.013\n",
      "PC 39: 0.013\n",
      "PC 40: 0.012\n"
     ]
    }
   ],
   "source": [
    "# Finding Ratio under each category \n",
    "\n",
    "\n",
    "# component number counter\n",
    "component_number = 0\n",
    "\n",
    "# looping over each principal component\n",
    "for variance in pca.explained_variance_ratio_:\n",
    "    component_number += 1\n",
    "    \n",
    "    print(f\"PC {component_number}: {variance.round(3)}\")"
   ]
  },
  {
   "cell_type": "markdown",
   "id": "0e49dd6e",
   "metadata": {},
   "source": [
    "#### Scree Plot"
   ]
  },
  {
   "cell_type": "code",
   "execution_count": 21,
   "id": "5fcb8d05",
   "metadata": {},
   "outputs": [
    {
     "data": {
      "image/png": "[encoded data removed]",
      "text/plain": [
       "<Figure size 720x576 with 1 Axes>"
      ]
     },
     "metadata": {
      "needs_background": "light"
     },
     "output_type": "display_data"
    }
   ],
   "source": [
    "# Checking for elbow and marking with a red line where to cut off\n",
    "scree_plot(pca_object = pca,\n",
    "          export = False,\n",
    "          axvline = 5)"
   ]
  },
  {
   "cell_type": "markdown",
   "id": "9250adec",
   "metadata": {},
   "source": [
    "<strong>Scree Plot Break-off Point for Likert </strong>\n",
    "\n",
    "This PCA scree plots based on likert scales questions does not have a clear elbow, however,  after point five the variance between the plots drastically minimizes. Based on this, a natural cutting-off point is at point five, as marked with the red line.\n",
    "<hr style=\"height:.9px;border:none;color:#333;background-color:#333;\" />"
   ]
  },
  {
   "cell_type": "markdown",
   "id": "f01b6620",
   "metadata": {},
   "source": [
    "### app_behaviour"
   ]
  },
  {
   "cell_type": "code",
   "execution_count": 22,
   "id": "a485ce6a",
   "metadata": {},
   "outputs": [
    {
     "name": "stdout",
     "output_type": "stream",
     "text": [
      "PC 1: 0.297\n",
      "PC 2: 0.11\n",
      "PC 3: 0.081\n",
      "PC 4: 0.074\n",
      "PC 5: 0.07\n",
      "PC 6: 0.063\n",
      "PC 7: 0.05\n",
      "PC 8: 0.048\n",
      "PC 9: 0.046\n",
      "PC 10: 0.043\n",
      "PC 11: 0.038\n",
      "PC 12: 0.032\n",
      "PC 13: 0.027\n",
      "PC 14: 0.022\n"
     ]
    }
   ],
   "source": [
    "# component number counter\n",
    "component_number = 0\n",
    "\n",
    "# looping over each principal component\n",
    "for variance in pca_app_behaviour.explained_variance_ratio_:\n",
    "    component_number += 1\n",
    "    \n",
    "    print(f\"PC {component_number}: {variance.round(3)}\")"
   ]
  },
  {
   "cell_type": "markdown",
   "id": "fc8b559e",
   "metadata": {},
   "source": [
    "#### Scree Plot"
   ]
  },
  {
   "cell_type": "code",
   "execution_count": 23,
   "id": "8c109f65",
   "metadata": {},
   "outputs": [
    {
     "data": {
      "image/png": "[encoded data removed]",
      "text/plain": [
       "<Figure size 720x576 with 1 Axes>"
      ]
     },
     "metadata": {
      "needs_background": "light"
     },
     "output_type": "display_data"
    }
   ],
   "source": [
    "# Checking for elbow and marking with a red line where to cut off\n",
    "scree_plot(pca_object = pca_app_behaviour,\n",
    "          export = False,\n",
    "\n",
    "           axvline = 2)"
   ]
  },
  {
   "cell_type": "markdown",
   "id": "b25803ae",
   "metadata": {},
   "source": [
    "<strong>Scree Plot Break-off Point for Behaviour </strong>\n",
    "\n",
    "For the app behaviour screen plots the variance is more even, without a clear point where it starts to minimize. But this scree plot displays a more clear elbow ending with plot three, therefore, we decided to cut here as PC1, PC2 and PC2 captures the most valuable data for the marketing department.\n",
    "<hr style=\"height:.9px;border:none;color:#333;background-color:#333;\" />"
   ]
  },
  {
   "cell_type": "markdown",
   "id": "e7e290e2",
   "metadata": {},
   "source": [
    "## Setting Principal Components Numbers"
   ]
  },
  {
   "cell_type": "markdown",
   "id": "5993236a",
   "metadata": {},
   "source": [
    "### Likert"
   ]
  },
  {
   "cell_type": "code",
   "execution_count": 24,
   "id": "73e324fb",
   "metadata": {},
   "outputs": [],
   "source": [
    "# transposing pca components\n",
    "factor_loadings_df = pd.DataFrame(np.transpose(pca.components_.round(decimals = 2)))\n",
    "\n",
    "\n",
    "# naming rows as original features\n",
    "factor_loadings_df = factor_loadings_df.set_index(likert.columns)\n"
   ]
  },
  {
   "cell_type": "markdown",
   "id": "26381020",
   "metadata": {},
   "source": [
    "Cutting at the elbow, after point 5 as this has a three times as large decrease as the next ones."
   ]
  },
  {
   "cell_type": "code",
   "execution_count": 25,
   "id": "f90a777d",
   "metadata": {
    "scrolled": false
   },
   "outputs": [],
   "source": [
    "# instanting a new model using the first six principal components\n",
    "pca_5 = PCA(n_components = 6,\n",
    "            random_state = 219)\n",
    "\n",
    "\n",
    "# fitting and transforming the purchases_scaled\n",
    "app_survey_pca_5 = pca_5.fit_transform(likert_scaled)\n"
   ]
  },
  {
   "cell_type": "markdown",
   "id": "a1e3fba2",
   "metadata": {},
   "source": [
    "### Behaviour"
   ]
  },
  {
   "cell_type": "code",
   "execution_count": 26,
   "id": "0f8ba694",
   "metadata": {},
   "outputs": [],
   "source": [
    "# transposing pca components\n",
    "factor_loadings_df_app_behaviour = pd.DataFrame(np.transpose(pca_app_behaviour.components_.round(decimals = 2)))\n",
    "\n",
    "\n",
    "# naming rows as original features\n",
    "factor_loadings_df_app_behaviour = factor_loadings_df_app_behaviour.set_index(app_behaviour_scaled.columns)\n"
   ]
  },
  {
   "cell_type": "code",
   "execution_count": 27,
   "id": "0da2e617",
   "metadata": {},
   "outputs": [],
   "source": [
    "# instanting a new model using the first three principal components\n",
    "pca_3 = PCA(n_components = 3,\n",
    "            random_state = 219)\n",
    "\n",
    "\n",
    "# fitting and transofrming the purchases_scaled\n",
    "app_survey_pca_3 = pca_3.fit_transform(app_behaviour_scaled)\n"
   ]
  },
  {
   "cell_type": "markdown",
   "id": "685ccd92",
   "metadata": {},
   "source": [
    "## Interpreting Principal Components "
   ]
  },
  {
   "cell_type": "markdown",
   "id": "39adc6c6",
   "metadata": {},
   "source": [
    "### Likert"
   ]
  },
  {
   "cell_type": "markdown",
   "id": "87b456d0",
   "metadata": {},
   "source": [
    "<strong> Reasoning behind principal component names </strong>\n",
    "\n",
    "To be able to easier analyze our clusters we name and give meaning to each principal component based on its factor loading. After analyzing each one, these are what they had in common and the reasoning behind their name.<br><br>\n",
    "\n",
    "<strong>Social Butterflies:</strong> Strong personalities and leader mentality; they want to stand out, be recognized but also hold people accountable. Don’t like getting told what to do. Not interested in short term goals, they are in long term ones, thus why shopping doesn't feel interesting since it detracts from their goals. Tech and apps improve life.<br><br>\n",
    "\n",
    "    \n",
    "<strong>Introverted-tech savvy:</strong> Interested in technology and don’t want to lead or stand out, rather modest and individual people. Not very active and creative people. Immersed and interested in their virtual and technological world.<br><br>\n",
    "\n",
    "    \n",
    "<strong>Everyman:</strong> Average working individual, keeps up with tech because he must. They believe there is too much tech and information. Don’t display leadership or distinctive qualities, and are not risk-takers. Aren’t too interested in shopping unless necessary.<br><br>\n",
    "\n",
    "    \n",
    "<strong>Frugalish:</strong> Not too interested in technology in general, nevertheless, they do get new gadgets. Interested in shopping, traditional or online, but are really interested in discounts, thus why they like to shop but buying cheap. Alternates between shopping methods using technology and apps for discounts, making the best of every purchase.<br><br>\n",
    "\n",
    "    \n",
    "<strong>Old-Fashioned:</strong> Set in their ways,  not keen or interested in technology and apps, in fact, they prefer to do things the way they have been used to. Rely on children to know what to download and use.<br><br>\n",
    "\n",
    "    \n",
    "<strong>Guardian Angels:</strong> Try to keep up with technology, but they think that there is too much technology information in apps. No apps for social networks and aren’t the first to try things out or take risks. Active and optimistic and feel like their time is overstretched. Care about the extra pay because they like luxury products. Plan things before purchasing them.\n",
    "\n",
    "\n",
    "\n",
    "<hr style=\"height:.9px;border:none;color:#333;background-color:#333;\" />"
   ]
  },
  {
   "cell_type": "code",
   "execution_count": 28,
   "id": "562a13b2",
   "metadata": {},
   "outputs": [
    {
     "data": {
      "text/html": [
       "<div>\n",
       "<style scoped>\n",
       "    .dataframe tbody tr th:only-of-type {\n",
       "        vertical-align: middle;\n",
       "    }\n",
       "\n",
       "    .dataframe tbody tr th {\n",
       "        vertical-align: top;\n",
       "    }\n",
       "\n",
       "    .dataframe thead th {\n",
       "        text-align: right;\n",
       "    }\n",
       "</style>\n",
       "<table border=\"1\" class=\"dataframe\">\n",
       "  <thead>\n",
       "    <tr style=\"text-align: right;\">\n",
       "      <th></th>\n",
       "      <th>Social_Butterflies</th>\n",
       "      <th>Introverted-tech_Savvy</th>\n",
       "      <th>EveryMan</th>\n",
       "      <th>Frugalish</th>\n",
       "      <th>Old_Fashioned</th>\n",
       "      <th>Guardian_Angels</th>\n",
       "    </tr>\n",
       "  </thead>\n",
       "  <tbody>\n",
       "    <tr>\n",
       "      <th>log_q24_tec_dev</th>\n",
       "      <td>-0.07</td>\n",
       "      <td>0.01</td>\n",
       "      <td>0.30</td>\n",
       "      <td>-0.07</td>\n",
       "      <td>-0.13</td>\n",
       "      <td>0.20</td>\n",
       "    </tr>\n",
       "    <tr>\n",
       "      <th>log_q24_tec_advisor</th>\n",
       "      <td>0.20</td>\n",
       "      <td>0.21</td>\n",
       "      <td>0.12</td>\n",
       "      <td>0.22</td>\n",
       "      <td>0.08</td>\n",
       "      <td>0.04</td>\n",
       "    </tr>\n",
       "    <tr>\n",
       "      <th>log_q24_new_gad</th>\n",
       "      <td>0.07</td>\n",
       "      <td>0.21</td>\n",
       "      <td>0.08</td>\n",
       "      <td>0.19</td>\n",
       "      <td>0.20</td>\n",
       "      <td>0.03</td>\n",
       "    </tr>\n",
       "    <tr>\n",
       "      <th>log_q24_much_tec</th>\n",
       "      <td>-0.08</td>\n",
       "      <td>-0.12</td>\n",
       "      <td>0.39</td>\n",
       "      <td>-0.06</td>\n",
       "      <td>-0.15</td>\n",
       "      <td>0.12</td>\n",
       "    </tr>\n",
       "    <tr>\n",
       "      <th>log_q24_enjoy_tec</th>\n",
       "      <td>-0.02</td>\n",
       "      <td>0.17</td>\n",
       "      <td>0.10</td>\n",
       "      <td>-0.08</td>\n",
       "      <td>0.04</td>\n",
       "      <td>-0.02</td>\n",
       "    </tr>\n",
       "    <tr>\n",
       "      <th>log_q24_save_time</th>\n",
       "      <td>0.17</td>\n",
       "      <td>0.12</td>\n",
       "      <td>0.07</td>\n",
       "      <td>0.21</td>\n",
       "      <td>-0.08</td>\n",
       "      <td>-0.05</td>\n",
       "    </tr>\n",
       "    <tr>\n",
       "      <th>log_q24_music</th>\n",
       "      <td>0.19</td>\n",
       "      <td>0.24</td>\n",
       "      <td>0.06</td>\n",
       "      <td>-0.03</td>\n",
       "      <td>-0.04</td>\n",
       "      <td>0.10</td>\n",
       "    </tr>\n",
       "    <tr>\n",
       "      <th>log_q24_tv_show</th>\n",
       "      <td>0.22</td>\n",
       "      <td>0.28</td>\n",
       "      <td>0.02</td>\n",
       "      <td>-0.01</td>\n",
       "      <td>-0.09</td>\n",
       "      <td>-0.05</td>\n",
       "    </tr>\n",
       "    <tr>\n",
       "      <th>log_q24_much_inf</th>\n",
       "      <td>-0.09</td>\n",
       "      <td>-0.16</td>\n",
       "      <td>0.41</td>\n",
       "      <td>-0.06</td>\n",
       "      <td>-0.11</td>\n",
       "      <td>0.13</td>\n",
       "    </tr>\n",
       "    <tr>\n",
       "      <th>log_q24_sns</th>\n",
       "      <td>0.19</td>\n",
       "      <td>0.27</td>\n",
       "      <td>-0.05</td>\n",
       "      <td>-0.11</td>\n",
       "      <td>-0.12</td>\n",
       "      <td>-0.18</td>\n",
       "    </tr>\n",
       "    <tr>\n",
       "      <th>log_q24_family</th>\n",
       "      <td>0.22</td>\n",
       "      <td>0.16</td>\n",
       "      <td>-0.04</td>\n",
       "      <td>-0.34</td>\n",
       "      <td>-0.16</td>\n",
       "      <td>0.03</td>\n",
       "    </tr>\n",
       "    <tr>\n",
       "      <th>log_q24_avoid_family</th>\n",
       "      <td>0.27</td>\n",
       "      <td>0.21</td>\n",
       "      <td>-0.04</td>\n",
       "      <td>-0.12</td>\n",
       "      <td>-0.22</td>\n",
       "      <td>-0.00</td>\n",
       "    </tr>\n",
       "    <tr>\n",
       "      <th>log_q25_opinion_leader</th>\n",
       "      <td>0.15</td>\n",
       "      <td>-0.25</td>\n",
       "      <td>-0.12</td>\n",
       "      <td>-0.10</td>\n",
       "      <td>0.04</td>\n",
       "      <td>0.09</td>\n",
       "    </tr>\n",
       "    <tr>\n",
       "      <th>log_q25_stand_out</th>\n",
       "      <td>0.12</td>\n",
       "      <td>-0.24</td>\n",
       "      <td>-0.16</td>\n",
       "      <td>-0.05</td>\n",
       "      <td>0.08</td>\n",
       "      <td>-0.08</td>\n",
       "    </tr>\n",
       "    <tr>\n",
       "      <th>log_q25_offer_advice</th>\n",
       "      <td>0.16</td>\n",
       "      <td>-0.17</td>\n",
       "      <td>-0.10</td>\n",
       "      <td>0.05</td>\n",
       "      <td>0.05</td>\n",
       "      <td>0.06</td>\n",
       "    </tr>\n",
       "    <tr>\n",
       "      <th>log_q25_lead_decision</th>\n",
       "      <td>0.21</td>\n",
       "      <td>-0.25</td>\n",
       "      <td>-0.12</td>\n",
       "      <td>0.02</td>\n",
       "      <td>-0.02</td>\n",
       "      <td>0.02</td>\n",
       "    </tr>\n",
       "    <tr>\n",
       "      <th>log_q25_first_new</th>\n",
       "      <td>0.16</td>\n",
       "      <td>-0.08</td>\n",
       "      <td>-0.18</td>\n",
       "      <td>-0.27</td>\n",
       "      <td>0.02</td>\n",
       "      <td>-0.10</td>\n",
       "    </tr>\n",
       "    <tr>\n",
       "      <th>log_q25_responsibility</th>\n",
       "      <td>-0.19</td>\n",
       "      <td>-0.11</td>\n",
       "      <td>0.24</td>\n",
       "      <td>-0.21</td>\n",
       "      <td>0.07</td>\n",
       "      <td>-0.12</td>\n",
       "    </tr>\n",
       "    <tr>\n",
       "      <th>log_q25_control</th>\n",
       "      <td>0.17</td>\n",
       "      <td>-0.20</td>\n",
       "      <td>-0.02</td>\n",
       "      <td>0.12</td>\n",
       "      <td>-0.01</td>\n",
       "      <td>-0.10</td>\n",
       "    </tr>\n",
       "    <tr>\n",
       "      <th>log_q25_risk_taker</th>\n",
       "      <td>0.09</td>\n",
       "      <td>-0.24</td>\n",
       "      <td>-0.12</td>\n",
       "      <td>-0.14</td>\n",
       "      <td>0.05</td>\n",
       "      <td>-0.09</td>\n",
       "    </tr>\n",
       "    <tr>\n",
       "      <th>log_q25_creative</th>\n",
       "      <td>0.18</td>\n",
       "      <td>-0.15</td>\n",
       "      <td>-0.07</td>\n",
       "      <td>0.14</td>\n",
       "      <td>0.12</td>\n",
       "      <td>-0.03</td>\n",
       "    </tr>\n",
       "    <tr>\n",
       "      <th>log_q25_optimistic</th>\n",
       "      <td>0.18</td>\n",
       "      <td>-0.11</td>\n",
       "      <td>-0.06</td>\n",
       "      <td>0.12</td>\n",
       "      <td>0.19</td>\n",
       "      <td>0.12</td>\n",
       "    </tr>\n",
       "    <tr>\n",
       "      <th>log_q25_active</th>\n",
       "      <td>0.16</td>\n",
       "      <td>-0.26</td>\n",
       "      <td>-0.06</td>\n",
       "      <td>0.09</td>\n",
       "      <td>0.04</td>\n",
       "      <td>0.14</td>\n",
       "    </tr>\n",
       "    <tr>\n",
       "      <th>log_q25_stretched_time</th>\n",
       "      <td>0.01</td>\n",
       "      <td>-0.16</td>\n",
       "      <td>0.16</td>\n",
       "      <td>0.05</td>\n",
       "      <td>0.01</td>\n",
       "      <td>-0.37</td>\n",
       "    </tr>\n",
       "    <tr>\n",
       "      <th>log_q26_luxury_brand</th>\n",
       "      <td>-0.18</td>\n",
       "      <td>-0.03</td>\n",
       "      <td>-0.23</td>\n",
       "      <td>0.10</td>\n",
       "      <td>-0.41</td>\n",
       "      <td>0.10</td>\n",
       "    </tr>\n",
       "    <tr>\n",
       "      <th>log_q26_discount</th>\n",
       "      <td>0.00</td>\n",
       "      <td>0.06</td>\n",
       "      <td>0.09</td>\n",
       "      <td>0.37</td>\n",
       "      <td>0.16</td>\n",
       "      <td>-0.01</td>\n",
       "    </tr>\n",
       "    <tr>\n",
       "      <th>log_q26_shopping</th>\n",
       "      <td>-0.21</td>\n",
       "      <td>0.00</td>\n",
       "      <td>-0.12</td>\n",
       "      <td>0.22</td>\n",
       "      <td>-0.10</td>\n",
       "      <td>-0.23</td>\n",
       "    </tr>\n",
       "    <tr>\n",
       "      <th>log_q26_package_deal</th>\n",
       "      <td>-0.18</td>\n",
       "      <td>0.06</td>\n",
       "      <td>0.02</td>\n",
       "      <td>0.11</td>\n",
       "      <td>0.26</td>\n",
       "      <td>0.07</td>\n",
       "    </tr>\n",
       "    <tr>\n",
       "      <th>log_q26_online_shop</th>\n",
       "      <td>-0.10</td>\n",
       "      <td>0.09</td>\n",
       "      <td>-0.11</td>\n",
       "      <td>-0.01</td>\n",
       "      <td>-0.04</td>\n",
       "      <td>-0.28</td>\n",
       "    </tr>\n",
       "    <tr>\n",
       "      <th>log_q26_designer_brand</th>\n",
       "      <td>-0.20</td>\n",
       "      <td>-0.06</td>\n",
       "      <td>-0.20</td>\n",
       "      <td>0.04</td>\n",
       "      <td>-0.40</td>\n",
       "      <td>0.23</td>\n",
       "    </tr>\n",
       "    <tr>\n",
       "      <th>log_q26_not_enough_app</th>\n",
       "      <td>-0.18</td>\n",
       "      <td>0.13</td>\n",
       "      <td>-0.16</td>\n",
       "      <td>-0.20</td>\n",
       "      <td>0.30</td>\n",
       "      <td>0.08</td>\n",
       "    </tr>\n",
       "    <tr>\n",
       "      <th>log_q26_not_number_app</th>\n",
       "      <td>-0.04</td>\n",
       "      <td>0.11</td>\n",
       "      <td>-0.14</td>\n",
       "      <td>0.10</td>\n",
       "      <td>0.02</td>\n",
       "      <td>-0.08</td>\n",
       "    </tr>\n",
       "    <tr>\n",
       "      <th>log_q26_new_app</th>\n",
       "      <td>-0.11</td>\n",
       "      <td>0.14</td>\n",
       "      <td>-0.24</td>\n",
       "      <td>-0.17</td>\n",
       "      <td>0.27</td>\n",
       "      <td>0.19</td>\n",
       "    </tr>\n",
       "    <tr>\n",
       "      <th>log_q26_child_impact</th>\n",
       "      <td>-0.15</td>\n",
       "      <td>-0.06</td>\n",
       "      <td>0.09</td>\n",
       "      <td>-0.08</td>\n",
       "      <td>0.20</td>\n",
       "      <td>0.16</td>\n",
       "    </tr>\n",
       "    <tr>\n",
       "      <th>log_q26_extra_pay</th>\n",
       "      <td>-0.13</td>\n",
       "      <td>0.06</td>\n",
       "      <td>-0.17</td>\n",
       "      <td>-0.22</td>\n",
       "      <td>0.00</td>\n",
       "      <td>0.20</td>\n",
       "    </tr>\n",
       "    <tr>\n",
       "      <th>log_q26_earning_money</th>\n",
       "      <td>-0.16</td>\n",
       "      <td>0.01</td>\n",
       "      <td>-0.02</td>\n",
       "      <td>-0.07</td>\n",
       "      <td>-0.02</td>\n",
       "      <td>-0.28</td>\n",
       "    </tr>\n",
       "    <tr>\n",
       "      <th>log_q26_trend</th>\n",
       "      <td>-0.22</td>\n",
       "      <td>0.01</td>\n",
       "      <td>-0.16</td>\n",
       "      <td>0.07</td>\n",
       "      <td>-0.07</td>\n",
       "      <td>-0.01</td>\n",
       "    </tr>\n",
       "    <tr>\n",
       "      <th>log_q26_brand_reflect</th>\n",
       "      <td>-0.05</td>\n",
       "      <td>0.01</td>\n",
       "      <td>-0.16</td>\n",
       "      <td>0.37</td>\n",
       "      <td>-0.20</td>\n",
       "      <td>0.19</td>\n",
       "    </tr>\n",
       "    <tr>\n",
       "      <th>log_q26_impulse_purchases</th>\n",
       "      <td>-0.20</td>\n",
       "      <td>0.01</td>\n",
       "      <td>-0.06</td>\n",
       "      <td>0.01</td>\n",
       "      <td>0.01</td>\n",
       "      <td>-0.43</td>\n",
       "    </tr>\n",
       "    <tr>\n",
       "      <th>log_q26_entertainment</th>\n",
       "      <td>-0.10</td>\n",
       "      <td>0.14</td>\n",
       "      <td>-0.12</td>\n",
       "      <td>0.11</td>\n",
       "      <td>0.20</td>\n",
       "      <td>0.18</td>\n",
       "    </tr>\n",
       "  </tbody>\n",
       "</table>\n",
       "</div>"
      ],
      "text/plain": [
       "                           Social_Butterflies  Introverted-tech_Savvy  \\\n",
       "log_q24_tec_dev                         -0.07                    0.01   \n",
       "log_q24_tec_advisor                      0.20                    0.21   \n",
       "log_q24_new_gad                          0.07                    0.21   \n",
       "log_q24_much_tec                        -0.08                   -0.12   \n",
       "log_q24_enjoy_tec                       -0.02                    0.17   \n",
       "log_q24_save_time                        0.17                    0.12   \n",
       "log_q24_music                            0.19                    0.24   \n",
       "log_q24_tv_show                          0.22                    0.28   \n",
       "log_q24_much_inf                        -0.09                   -0.16   \n",
       "log_q24_sns                              0.19                    0.27   \n",
       "log_q24_family                           0.22                    0.16   \n",
       "log_q24_avoid_family                     0.27                    0.21   \n",
       "log_q25_opinion_leader                   0.15                   -0.25   \n",
       "log_q25_stand_out                        0.12                   -0.24   \n",
       "log_q25_offer_advice                     0.16                   -0.17   \n",
       "log_q25_lead_decision                    0.21                   -0.25   \n",
       "log_q25_first_new                        0.16                   -0.08   \n",
       "log_q25_responsibility                  -0.19                   -0.11   \n",
       "log_q25_control                          0.17                   -0.20   \n",
       "log_q25_risk_taker                       0.09                   -0.24   \n",
       "log_q25_creative                         0.18                   -0.15   \n",
       "log_q25_optimistic                       0.18                   -0.11   \n",
       "log_q25_active                           0.16                   -0.26   \n",
       "log_q25_stretched_time                   0.01                   -0.16   \n",
       "log_q26_luxury_brand                    -0.18                   -0.03   \n",
       "log_q26_discount                         0.00                    0.06   \n",
       "log_q26_shopping                        -0.21                    0.00   \n",
       "log_q26_package_deal                    -0.18                    0.06   \n",
       "log_q26_online_shop                     -0.10                    0.09   \n",
       "log_q26_designer_brand                  -0.20                   -0.06   \n",
       "log_q26_not_enough_app                  -0.18                    0.13   \n",
       "log_q26_not_number_app                  -0.04                    0.11   \n",
       "log_q26_new_app                         -0.11                    0.14   \n",
       "log_q26_child_impact                    -0.15                   -0.06   \n",
       "log_q26_extra_pay                       -0.13                    0.06   \n",
       "log_q26_earning_money                   -0.16                    0.01   \n",
       "log_q26_trend                           -0.22                    0.01   \n",
       "log_q26_brand_reflect                   -0.05                    0.01   \n",
       "log_q26_impulse_purchases               -0.20                    0.01   \n",
       "log_q26_entertainment                   -0.10                    0.14   \n",
       "\n",
       "                           EveryMan  Frugalish   Old_Fashioned  \\\n",
       "log_q24_tec_dev                0.30       -0.07          -0.13   \n",
       "log_q24_tec_advisor            0.12        0.22           0.08   \n",
       "log_q24_new_gad                0.08        0.19           0.20   \n",
       "log_q24_much_tec               0.39       -0.06          -0.15   \n",
       "log_q24_enjoy_tec              0.10       -0.08           0.04   \n",
       "log_q24_save_time              0.07        0.21          -0.08   \n",
       "log_q24_music                  0.06       -0.03          -0.04   \n",
       "log_q24_tv_show                0.02       -0.01          -0.09   \n",
       "log_q24_much_inf               0.41       -0.06          -0.11   \n",
       "log_q24_sns                   -0.05       -0.11          -0.12   \n",
       "log_q24_family                -0.04       -0.34          -0.16   \n",
       "log_q24_avoid_family          -0.04       -0.12          -0.22   \n",
       "log_q25_opinion_leader        -0.12       -0.10           0.04   \n",
       "log_q25_stand_out             -0.16       -0.05           0.08   \n",
       "log_q25_offer_advice          -0.10        0.05           0.05   \n",
       "log_q25_lead_decision         -0.12        0.02          -0.02   \n",
       "log_q25_first_new             -0.18       -0.27           0.02   \n",
       "log_q25_responsibility         0.24       -0.21           0.07   \n",
       "log_q25_control               -0.02        0.12          -0.01   \n",
       "log_q25_risk_taker            -0.12       -0.14           0.05   \n",
       "log_q25_creative              -0.07        0.14           0.12   \n",
       "log_q25_optimistic            -0.06        0.12           0.19   \n",
       "log_q25_active                -0.06        0.09           0.04   \n",
       "log_q25_stretched_time         0.16        0.05           0.01   \n",
       "log_q26_luxury_brand          -0.23        0.10          -0.41   \n",
       "log_q26_discount               0.09        0.37           0.16   \n",
       "log_q26_shopping              -0.12        0.22          -0.10   \n",
       "log_q26_package_deal           0.02        0.11           0.26   \n",
       "log_q26_online_shop           -0.11       -0.01          -0.04   \n",
       "log_q26_designer_brand        -0.20        0.04          -0.40   \n",
       "log_q26_not_enough_app        -0.16       -0.20           0.30   \n",
       "log_q26_not_number_app        -0.14        0.10           0.02   \n",
       "log_q26_new_app               -0.24       -0.17           0.27   \n",
       "log_q26_child_impact           0.09       -0.08           0.20   \n",
       "log_q26_extra_pay             -0.17       -0.22           0.00   \n",
       "log_q26_earning_money         -0.02       -0.07          -0.02   \n",
       "log_q26_trend                 -0.16        0.07          -0.07   \n",
       "log_q26_brand_reflect         -0.16        0.37          -0.20   \n",
       "log_q26_impulse_purchases     -0.06        0.01           0.01   \n",
       "log_q26_entertainment         -0.12        0.11           0.20   \n",
       "\n",
       "                           Guardian_Angels  \n",
       "log_q24_tec_dev                       0.20  \n",
       "log_q24_tec_advisor                   0.04  \n",
       "log_q24_new_gad                       0.03  \n",
       "log_q24_much_tec                      0.12  \n",
       "log_q24_enjoy_tec                    -0.02  \n",
       "log_q24_save_time                    -0.05  \n",
       "log_q24_music                         0.10  \n",
       "log_q24_tv_show                      -0.05  \n",
       "log_q24_much_inf                      0.13  \n",
       "log_q24_sns                          -0.18  \n",
       "log_q24_family                        0.03  \n",
       "log_q24_avoid_family                 -0.00  \n",
       "log_q25_opinion_leader                0.09  \n",
       "log_q25_stand_out                    -0.08  \n",
       "log_q25_offer_advice                  0.06  \n",
       "log_q25_lead_decision                 0.02  \n",
       "log_q25_first_new                    -0.10  \n",
       "log_q25_responsibility               -0.12  \n",
       "log_q25_control                      -0.10  \n",
       "log_q25_risk_taker                   -0.09  \n",
       "log_q25_creative                     -0.03  \n",
       "log_q25_optimistic                    0.12  \n",
       "log_q25_active                        0.14  \n",
       "log_q25_stretched_time               -0.37  \n",
       "log_q26_luxury_brand                  0.10  \n",
       "log_q26_discount                     -0.01  \n",
       "log_q26_shopping                     -0.23  \n",
       "log_q26_package_deal                  0.07  \n",
       "log_q26_online_shop                  -0.28  \n",
       "log_q26_designer_brand                0.23  \n",
       "log_q26_not_enough_app                0.08  \n",
       "log_q26_not_number_app               -0.08  \n",
       "log_q26_new_app                       0.19  \n",
       "log_q26_child_impact                  0.16  \n",
       "log_q26_extra_pay                     0.20  \n",
       "log_q26_earning_money                -0.28  \n",
       "log_q26_trend                        -0.01  \n",
       "log_q26_brand_reflect                 0.19  \n",
       "log_q26_impulse_purchases            -0.43  \n",
       "log_q26_entertainment                 0.18  "
      ]
     },
     "execution_count": 28,
     "metadata": {},
     "output_type": "execute_result"
    }
   ],
   "source": [
    "# transposing pca components\n",
    "factor_loadings_5 = pd.DataFrame(np.transpose(pca_5.components_.round(decimals = 2)))\n",
    "\n",
    "# naming rows as original features\n",
    "factor_loadings_5 = factor_loadings_5.set_index(likert.columns)\n",
    "\n",
    "# naming each principal component\n",
    "factor_loadings_5.columns = ['Social_Butterflies','Introverted-tech_Savvy', 'EveryMan', 'Frugalish ', 'Old_Fashioned', 'Guardian_Angels']\n",
    "\n",
    "factor_loadings_5"
   ]
  },
  {
   "cell_type": "code",
   "execution_count": 29,
   "id": "deb18e4e",
   "metadata": {},
   "outputs": [],
   "source": [
    "# analyzing factor strengths per customer\n",
    "factor_loadings = pca_5.transform(likert_scaled)\n",
    "\n",
    "# converting to a DataFrame\n",
    "factor_loadings_df = pd.DataFrame(factor_loadings)\n",
    "\n",
    "factor_loadings_df.columns = factor_loadings_5.columns\n"
   ]
  },
  {
   "cell_type": "markdown",
   "id": "514afc77",
   "metadata": {},
   "source": [
    "### Behaviour"
   ]
  },
  {
   "cell_type": "markdown",
   "id": "75389b97",
   "metadata": {},
   "source": [
    "<strong> Reasoning behind principal component names </strong>\n",
    "\n",
    "We continue with behavioural PCs and rename them to be able to more easily analyze our clusters with meaningful names. These are what they had in common and the reasoning behind their name.<br><br>\n",
    "\n",
    "<strong>Dormant:</strong> Doesn’t seem to use much of any social media or entertainment apps,  don’t seem to be very active in general regarding apps.<br><br>\n",
    "\n",
    "<strong>Streamers:</strong> Seems to focus the time they spend on apps in streaming platforms, whether it's music streaming or video streaming. They do not seem too keen or interested in news. <br><br>\n",
    "\n",
    "<strong>Early adapters:</strong>Adapts to new technology platforms and apps and sticks to them, like YouTube, and not too interested in change.\n",
    "\n",
    "\n",
    "\n",
    "<hr style=\"height:.9px;border:none;color:#333;background-color:#333;\" />"
   ]
  },
  {
   "cell_type": "code",
   "execution_count": 30,
   "id": "34b1a90d",
   "metadata": {},
   "outputs": [
    {
     "data": {
      "text/html": [
       "<div>\n",
       "<style scoped>\n",
       "    .dataframe tbody tr th:only-of-type {\n",
       "        vertical-align: middle;\n",
       "    }\n",
       "\n",
       "    .dataframe tbody tr th {\n",
       "        vertical-align: top;\n",
       "    }\n",
       "\n",
       "    .dataframe thead th {\n",
       "        text-align: right;\n",
       "    }\n",
       "</style>\n",
       "<table border=\"1\" class=\"dataframe\">\n",
       "  <thead>\n",
       "    <tr style=\"text-align: right;\">\n",
       "      <th></th>\n",
       "      <th>Dormant</th>\n",
       "      <th>Streamers</th>\n",
       "      <th>Early_Adapters</th>\n",
       "    </tr>\n",
       "  </thead>\n",
       "  <tbody>\n",
       "    <tr>\n",
       "      <th>log_q11_nr_apps</th>\n",
       "      <td>0.04</td>\n",
       "      <td>-0.48</td>\n",
       "      <td>0.51</td>\n",
       "    </tr>\n",
       "    <tr>\n",
       "      <th>log_q12_free_pct</th>\n",
       "      <td>-0.14</td>\n",
       "      <td>-0.26</td>\n",
       "      <td>-0.04</td>\n",
       "    </tr>\n",
       "    <tr>\n",
       "      <th>log_q13_visits_facebook</th>\n",
       "      <td>-0.10</td>\n",
       "      <td>0.38</td>\n",
       "      <td>0.47</td>\n",
       "    </tr>\n",
       "    <tr>\n",
       "      <th>log_q13_visits_twitter</th>\n",
       "      <td>-0.30</td>\n",
       "      <td>0.02</td>\n",
       "      <td>-0.03</td>\n",
       "    </tr>\n",
       "    <tr>\n",
       "      <th>log_q13_visits_myspace</th>\n",
       "      <td>-0.35</td>\n",
       "      <td>-0.26</td>\n",
       "      <td>0.02</td>\n",
       "    </tr>\n",
       "    <tr>\n",
       "      <th>log_q13_visits_pandora</th>\n",
       "      <td>-0.22</td>\n",
       "      <td>0.33</td>\n",
       "      <td>-0.07</td>\n",
       "    </tr>\n",
       "    <tr>\n",
       "      <th>log_q13_visits_vevo</th>\n",
       "      <td>-0.33</td>\n",
       "      <td>-0.01</td>\n",
       "      <td>0.00</td>\n",
       "    </tr>\n",
       "    <tr>\n",
       "      <th>log_q13_visits_youtube</th>\n",
       "      <td>-0.22</td>\n",
       "      <td>0.24</td>\n",
       "      <td>0.52</td>\n",
       "    </tr>\n",
       "    <tr>\n",
       "      <th>log_q13_visits_aol</th>\n",
       "      <td>-0.36</td>\n",
       "      <td>-0.24</td>\n",
       "      <td>-0.05</td>\n",
       "    </tr>\n",
       "    <tr>\n",
       "      <th>log_q13_visits_lastfm</th>\n",
       "      <td>-0.36</td>\n",
       "      <td>-0.08</td>\n",
       "      <td>-0.06</td>\n",
       "    </tr>\n",
       "    <tr>\n",
       "      <th>log_q13_visits_yahoo</th>\n",
       "      <td>-0.30</td>\n",
       "      <td>-0.25</td>\n",
       "      <td>0.19</td>\n",
       "    </tr>\n",
       "    <tr>\n",
       "      <th>log_q13_visits_imdb</th>\n",
       "      <td>-0.25</td>\n",
       "      <td>0.29</td>\n",
       "      <td>-0.21</td>\n",
       "    </tr>\n",
       "    <tr>\n",
       "      <th>log_q13_visits_linkedin</th>\n",
       "      <td>-0.28</td>\n",
       "      <td>-0.06</td>\n",
       "      <td>-0.38</td>\n",
       "    </tr>\n",
       "    <tr>\n",
       "      <th>log_q13_visits_netflix</th>\n",
       "      <td>-0.23</td>\n",
       "      <td>0.34</td>\n",
       "      <td>0.10</td>\n",
       "    </tr>\n",
       "  </tbody>\n",
       "</table>\n",
       "</div>"
      ],
      "text/plain": [
       "                         Dormant  Streamers  Early_Adapters\n",
       "log_q11_nr_apps             0.04      -0.48            0.51\n",
       "log_q12_free_pct           -0.14      -0.26           -0.04\n",
       "log_q13_visits_facebook    -0.10       0.38            0.47\n",
       "log_q13_visits_twitter     -0.30       0.02           -0.03\n",
       "log_q13_visits_myspace     -0.35      -0.26            0.02\n",
       "log_q13_visits_pandora     -0.22       0.33           -0.07\n",
       "log_q13_visits_vevo        -0.33      -0.01            0.00\n",
       "log_q13_visits_youtube     -0.22       0.24            0.52\n",
       "log_q13_visits_aol         -0.36      -0.24           -0.05\n",
       "log_q13_visits_lastfm      -0.36      -0.08           -0.06\n",
       "log_q13_visits_yahoo       -0.30      -0.25            0.19\n",
       "log_q13_visits_imdb        -0.25       0.29           -0.21\n",
       "log_q13_visits_linkedin    -0.28      -0.06           -0.38\n",
       "log_q13_visits_netflix     -0.23       0.34            0.10"
      ]
     },
     "execution_count": 30,
     "metadata": {},
     "output_type": "execute_result"
    }
   ],
   "source": [
    "# transposing pca components\n",
    "factor_loadings_3 = pd.DataFrame(np.transpose(pca_3.components_.round(decimals = 2)))\n",
    "\n",
    "# naming rows as original features\n",
    "factor_loadings_3 = factor_loadings_3.set_index(app_behaviour_scaled.columns)\n",
    "\n",
    "# naming each principal component\n",
    "factor_loadings_3.columns = ['Dormant','Streamers', 'Early_Adapters']\n",
    "\n",
    "factor_loadings_3"
   ]
  },
  {
   "cell_type": "code",
   "execution_count": 31,
   "id": "3f4226f1",
   "metadata": {},
   "outputs": [],
   "source": [
    "# analyzing factor strengths per customer\n",
    "factor_loadings_behaviour = pca_3.transform(app_behaviour_scaled)\n",
    "\n",
    "# converting to a DataFrame\n",
    "factor_loadings_behaviour_df = pd.DataFrame(factor_loadings_behaviour)\n",
    "\n",
    "factor_loadings_behaviour_df.columns = factor_loadings_3.columns\n"
   ]
  },
  {
   "cell_type": "markdown",
   "id": "4b59090e",
   "metadata": {},
   "source": [
    "# Clustering"
   ]
  },
  {
   "cell_type": "code",
   "execution_count": 32,
   "id": "2fb9501f",
   "metadata": {},
   "outputs": [],
   "source": [
    "################################\n",
    "# createing clustering data set\n",
    "################################\n",
    "\n",
    "# adding dummies to the data set\n",
    "dummies_df = app_survey[dummies]\n",
    "\n",
    "# setting  data sets to be added \n",
    "scaled = [factor_loadings_df, factor_loadings_behaviour_df, dummies_df]\n",
    "\n",
    "# combining data frames\n",
    "scaled_df = pd.concat(scaled, axis = 1)\n"
   ]
  },
  {
   "cell_type": "code",
   "execution_count": 33,
   "id": "1f3f2c75",
   "metadata": {},
   "outputs": [],
   "source": [
    "# applying the unsupervised_scaler function\n",
    "pca_scaled = unsupervised_scaler(df = scaled_df)\n"
   ]
  },
  {
   "cell_type": "markdown",
   "id": "6c2b4289",
   "metadata": {},
   "source": [
    "## Agglomerative Clustering"
   ]
  },
  {
   "cell_type": "code",
   "execution_count": 34,
   "id": "817298fa",
   "metadata": {},
   "outputs": [
    {
     "data": {
      "image/png": "[encoded data removed]",
      "text/plain": [
       "<Figure size 864x864 with 1 Axes>"
      ]
     },
     "metadata": {
      "needs_background": "light"
     },
     "output_type": "display_data"
    }
   ],
   "source": [
    "# grouping data based on Ward distance\n",
    "standard_mergings_ward = linkage(y = pca_scaled,\n",
    "                                 method = 'ward',\n",
    "                                 optimal_ordering = True)\n",
    "\n",
    "\n",
    "# setting plot size\n",
    "fig, ax = plt.subplots(figsize=(12, 12))\n",
    "\n",
    "# developing a dendrogram\n",
    "dendrogram(Z = standard_mergings_ward,\n",
    "           leaf_rotation = 90,\n",
    "           leaf_font_size = 6)\n",
    "\n",
    "\n",
    "# rendering the plot\n",
    "plt.show()"
   ]
  },
  {
   "cell_type": "markdown",
   "id": "6ad3988c",
   "metadata": {},
   "source": [
    "<strong> Choosing Number of Clusters </strong> \n",
    "\n",
    "Using agglomerative clustering to assess the number of clusters. Here we can see that there are three large groupings that we want to move forward with and one smaller outlier group. Therefore, we choose to continue with three clusters as this number showed an even distribution.\n",
    "<hr style=\"height:.9px;border:none;color:#333;background-color:#333;\" />"
   ]
  },
  {
   "cell_type": "code",
   "execution_count": 35,
   "id": "262c1166",
   "metadata": {},
   "outputs": [
    {
     "name": "stdout",
     "output_type": "stream",
     "text": [
      "2    677\n",
      "0    578\n",
      "1    270\n",
      "3     27\n",
      "Name: Cluster, dtype: int64\n"
     ]
    }
   ],
   "source": [
    "# instantiating a k-Means object with four clusters\n",
    "customers_k_pca = KMeans(n_clusters   = 4,\n",
    "                         random_state = 219)\n",
    "\n",
    "\n",
    "# fitting the object to the data\n",
    "customers_k_pca.fit(pca_scaled)\n",
    "\n",
    "\n",
    "# converting the clusters to a DataFrame\n",
    "app_kmeans_pca = pd.DataFrame({'Cluster': customers_k_pca.labels_})\n",
    "\n",
    "\n",
    "# checking the results\n",
    "print(app_kmeans_pca.iloc[: , 0].value_counts())"
   ]
  },
  {
   "cell_type": "markdown",
   "id": "4ead218e",
   "metadata": {},
   "source": [
    "## Analysing Clusters to Create Personas"
   ]
  },
  {
   "cell_type": "code",
   "execution_count": 36,
   "id": "a5f7d576",
   "metadata": {},
   "outputs": [
    {
     "data": {
      "text/html": [
       "<div>\n",
       "<style scoped>\n",
       "    .dataframe tbody tr th:only-of-type {\n",
       "        vertical-align: middle;\n",
       "    }\n",
       "\n",
       "    .dataframe tbody tr th {\n",
       "        vertical-align: top;\n",
       "    }\n",
       "\n",
       "    .dataframe thead th {\n",
       "        text-align: right;\n",
       "    }\n",
       "</style>\n",
       "<table border=\"1\" class=\"dataframe\">\n",
       "  <thead>\n",
       "    <tr style=\"text-align: right;\">\n",
       "      <th></th>\n",
       "      <th>Social_Butterflies</th>\n",
       "      <th>Introverted-tech_Savvy</th>\n",
       "      <th>EveryMan</th>\n",
       "      <th>Frugalish</th>\n",
       "      <th>Old_Fashioned</th>\n",
       "      <th>Guardian_Angels</th>\n",
       "      <th>Dormant</th>\n",
       "      <th>Streamers</th>\n",
       "      <th>Early_Adapters</th>\n",
       "      <th>q4_music_sound</th>\n",
       "      <th>q4_TV_entertainment</th>\n",
       "      <th>q4_gaming</th>\n",
       "      <th>q4_social</th>\n",
       "      <th>q4_shopping</th>\n",
       "      <th>q4_news</th>\n",
       "      <th>q4_other</th>\n",
       "      <th>q4_none</th>\n",
       "    </tr>\n",
       "  </thead>\n",
       "  <tbody>\n",
       "    <tr>\n",
       "      <th>0</th>\n",
       "      <td>-0.23</td>\n",
       "      <td>0.03</td>\n",
       "      <td>-0.18</td>\n",
       "      <td>-0.45</td>\n",
       "      <td>-0.11</td>\n",
       "      <td>0.02</td>\n",
       "      <td>-0.48</td>\n",
       "      <td>-0.05</td>\n",
       "      <td>-0.31</td>\n",
       "      <td>-0.21</td>\n",
       "      <td>-0.70</td>\n",
       "      <td>-0.18</td>\n",
       "      <td>0.47</td>\n",
       "      <td>-0.45</td>\n",
       "      <td>-0.31</td>\n",
       "      <td>0.13</td>\n",
       "      <td>-0.13</td>\n",
       "    </tr>\n",
       "    <tr>\n",
       "      <th>1</th>\n",
       "      <td>0.45</td>\n",
       "      <td>0.43</td>\n",
       "      <td>-0.27</td>\n",
       "      <td>0.38</td>\n",
       "      <td>0.20</td>\n",
       "      <td>0.00</td>\n",
       "      <td>0.10</td>\n",
       "      <td>0.88</td>\n",
       "      <td>0.39</td>\n",
       "      <td>-0.39</td>\n",
       "      <td>-0.18</td>\n",
       "      <td>-0.42</td>\n",
       "      <td>-1.95</td>\n",
       "      <td>-0.26</td>\n",
       "      <td>-0.42</td>\n",
       "      <td>0.05</td>\n",
       "      <td>-0.13</td>\n",
       "    </tr>\n",
       "    <tr>\n",
       "      <th>2</th>\n",
       "      <td>0.00</td>\n",
       "      <td>-0.23</td>\n",
       "      <td>0.29</td>\n",
       "      <td>0.24</td>\n",
       "      <td>0.01</td>\n",
       "      <td>-0.03</td>\n",
       "      <td>0.40</td>\n",
       "      <td>-0.36</td>\n",
       "      <td>0.10</td>\n",
       "      <td>0.39</td>\n",
       "      <td>0.71</td>\n",
       "      <td>0.40</td>\n",
       "      <td>0.46</td>\n",
       "      <td>0.52</td>\n",
       "      <td>0.48</td>\n",
       "      <td>-0.12</td>\n",
       "      <td>-0.13</td>\n",
       "    </tr>\n",
       "    <tr>\n",
       "      <th>3</th>\n",
       "      <td>0.33</td>\n",
       "      <td>0.75</td>\n",
       "      <td>-0.69</td>\n",
       "      <td>-0.31</td>\n",
       "      <td>0.16</td>\n",
       "      <td>0.33</td>\n",
       "      <td>-0.91</td>\n",
       "      <td>1.30</td>\n",
       "      <td>0.02</td>\n",
       "      <td>-1.51</td>\n",
       "      <td>-1.13</td>\n",
       "      <td>-1.80</td>\n",
       "      <td>-2.09</td>\n",
       "      <td>-0.95</td>\n",
       "      <td>-1.26</td>\n",
       "      <td>-0.29</td>\n",
       "      <td>7.52</td>\n",
       "    </tr>\n",
       "  </tbody>\n",
       "</table>\n",
       "</div>"
      ],
      "text/plain": [
       "   Social_Butterflies  Introverted-tech_Savvy  EveryMan  Frugalish   \\\n",
       "0               -0.23                    0.03     -0.18       -0.45   \n",
       "1                0.45                    0.43     -0.27        0.38   \n",
       "2                0.00                   -0.23      0.29        0.24   \n",
       "3                0.33                    0.75     -0.69       -0.31   \n",
       "\n",
       "   Old_Fashioned  Guardian_Angels  Dormant  Streamers  Early_Adapters  \\\n",
       "0          -0.11             0.02    -0.48      -0.05           -0.31   \n",
       "1           0.20             0.00     0.10       0.88            0.39   \n",
       "2           0.01            -0.03     0.40      -0.36            0.10   \n",
       "3           0.16             0.33    -0.91       1.30            0.02   \n",
       "\n",
       "   q4_music_sound  q4_TV_entertainment  q4_gaming  q4_social  q4_shopping  \\\n",
       "0           -0.21                -0.70      -0.18       0.47        -0.45   \n",
       "1           -0.39                -0.18      -0.42      -1.95        -0.26   \n",
       "2            0.39                 0.71       0.40       0.46         0.52   \n",
       "3           -1.51                -1.13      -1.80      -2.09        -0.95   \n",
       "\n",
       "   q4_news  q4_other  q4_none  \n",
       "0    -0.31      0.13    -0.13  \n",
       "1    -0.42      0.05    -0.13  \n",
       "2     0.48     -0.12    -0.13  \n",
       "3    -1.26     -0.29     7.52  "
      ]
     },
     "execution_count": 36,
     "metadata": {},
     "output_type": "execute_result"
    }
   ],
   "source": [
    "# storing cluster centers\n",
    "centroids_pca = customers_k_pca.cluster_centers_\n",
    "\n",
    "\n",
    "# converting cluster centers into a DataFrame\n",
    "centroids_pca_df = pd.DataFrame(centroids_pca)\n",
    "\n",
    "\n",
    "# renaming principal components\n",
    "centroids_pca_df.columns = scaled_df.columns\n",
    "\n",
    "\n",
    "# checking results (clusters = rows, pc = columns)\n",
    "centroids_pca_df.round(2)"
   ]
  },
  {
   "cell_type": "markdown",
   "id": "b5fb46c4",
   "metadata": {},
   "source": [
    "# Finalising DataFrame with New Values"
   ]
  },
  {
   "cell_type": "markdown",
   "id": "83957093",
   "metadata": {},
   "source": [
    "To complete the code, we concatenate demographics and the PCA components into one DataFrame. Then we rename variables in demographics to make then easy to interpret and rename our final clusters with meaningful names. Here are our 3 clusters:\n",
    "\n",
    "\n",
    "<strong> Some app users:</strong>  Rather large range of uses for apps. Use a bit of everything, particularly social media. They don’t tend to use apps for entertainment or shopping.\n",
    "\n",
    "<strong> Online streamers:</strong>  Early adopters of apps,  using them for watching videos or movies. They alone define the cluster.\n",
    "\n",
    "<strong> Lifestyle app users:</strong>  Mostly use apps that are related to entertainment such as streaming or music, but also for shopping and news. Average daily user of apps.\n",
    "\n",
    "\n",
    "<hr style=\"height:.9px;border:none;color:#333;background-color:#333;\" />"
   ]
  },
  {
   "cell_type": "code",
   "execution_count": 37,
   "id": "d49fd78f",
   "metadata": {},
   "outputs": [],
   "source": [
    "new_names = app_survey[demographics].columns.append(app_kmeans_pca.columns).append(scaled_df.columns)"
   ]
  },
  {
   "cell_type": "code",
   "execution_count": 38,
   "id": "1b5847f1",
   "metadata": {},
   "outputs": [],
   "source": [
    "# concatinating cluster behaviour with principal components\n",
    "clst_pca_df = pd.concat([app_kmeans_pca,\n",
    "                          scaled_df],\n",
    "                          axis = 1)\n",
    "\n",
    "\n",
    "# concatenating demographic information with pca-clusters\n",
    "final_pca_clust_df = pd.concat([app_survey.loc[ : , demographics],\n",
    "                                  clst_pca_df.round(decimals = 2)],\n",
    "                                  axis = 1)\n",
    "\n",
    "\n",
    "# renaming columns\n",
    "final_pca_clust_df.columns = new_names\n"
   ]
  },
  {
   "cell_type": "code",
   "execution_count": 39,
   "id": "cfcb53d4",
   "metadata": {
    "code_folding": []
   },
   "outputs": [],
   "source": [
    "# renaming age\n",
    "age_names = {1 : '> 18',\n",
    "             2 : '18-24',\n",
    "             3 : '25-29',\n",
    "             4 : '30-34',\n",
    "             5 : '35-39',\n",
    "             6 : '40-44',\n",
    "             7 : '45-49',\n",
    "             8 : '50-54',\n",
    "             9 : '55-59',\n",
    "             10 : '60-64',\n",
    "             11 : '65 <'}\n",
    "\n",
    "\n",
    "final_pca_clust_df['q1_age'].replace(age_names, inplace = True)\n",
    "\n",
    "\n",
    "# renaming education\n",
    "education_names = {1 : 'Some high school',\n",
    "             2 : 'High school graduate',\n",
    "             3 : 'Some college',\n",
    "             4 : 'College graduate',\n",
    "             5 : 'Some post-graduate studies',\n",
    "             6 : 'Post graduate degree'}\n",
    "\n",
    "\n",
    "final_pca_clust_df['q48_education'].replace(education_names, inplace = True)\n",
    "\n",
    "                   \n",
    "# renaming married\n",
    "married_names = {1 : 'Married',\n",
    "                 2 : 'Single',\n",
    "                 3 : 'Single with a partner',\n",
    "                 4 : 'Separated/Widowed/Divorced'}\n",
    "\n",
    "final_pca_clust_df['q49_married'].replace(married_names, inplace = True)\n",
    "\n",
    "   \n",
    "                             \n",
    "# renaming race\n",
    "race_names = {1 : 'White or Caucasian',\n",
    "             2 : 'Black or African American',\n",
    "             3 : 'Asian',\n",
    "             4 : 'Native Hawaiian or Other Pacific Islander',\n",
    "             5 : 'American Indian or Alaska Native',\n",
    "             6 : 'Other race'}\n",
    "\n",
    "final_pca_clust_df['q54_race'].replace(race_names, inplace = True)\n",
    "\n",
    "\n",
    "# renaming latino\n",
    "latino_names = {1 : 'Hispanic or Latino',\n",
    "                2 : 'Not Hispanic or Latino'}\n",
    "\n",
    "\n",
    "final_pca_clust_df['q55_latino'].replace(latino_names, inplace = True)\n",
    "         \n",
    "              \n",
    "\n",
    "# renaming income\n",
    "income_names = {1 : '<$10,000',\n",
    "                 2 : '10,000-$14,999',\n",
    "                 3 : '15,000-$19,999',\n",
    "                 4 : '20,000-$29,999',\n",
    "                 5 : '30,000-$39,999',\n",
    "                 6 : '40,000-$49,999',\n",
    "                 7 : '50,000-$59,999',\n",
    "                 8 : '60,000-$69,999',\n",
    "                 9 : '70,000-$79,999',\n",
    "                 10 : '80,000-$89,999',\n",
    "                 11 : '90,000-$99,999',\n",
    "                 12 : '100,000-$124,999',\n",
    "                 13 : '125,000-$149,999',\n",
    "                 14 : '150,000<'}\n",
    "\n",
    "final_pca_clust_df['q56_income'].replace(income_names, inplace = True)\n",
    "\n",
    "\n",
    "# renaming gender\n",
    "gender_names = {1 : 'male',\n",
    "                2 : 'female'}\n",
    "\n",
    "\n",
    "final_pca_clust_df['q57_gender'].replace(gender_names, inplace = True)\n",
    "   \n",
    "    \n",
    "    \n",
    "# renaming clusters\n",
    "cluster_names = {0 : 'SoMe_App_Users',\n",
    "                 1 : 'Online_Streamers',\n",
    "                 2 : 'Lifestyle_App_Users',\n",
    "                 3 : 'Not_Applicable'}\n",
    "\n",
    "\n",
    "final_pca_clust_df['Cluster'].replace(cluster_names, inplace = True)\n",
    "\n",
    "\n",
    "  \n",
    "# adding a productivity step\n",
    "data_df = final_pca_clust_df\n",
    "\n"
   ]
  },
  {
   "cell_type": "markdown",
   "id": "5d88d89c",
   "metadata": {},
   "source": [
    "# Boxplot Analysis (Analyze with demographics)"
   ]
  },
  {
   "cell_type": "markdown",
   "id": "8f32549b",
   "metadata": {},
   "source": [
    "As the boxplot are used to analyze demographic information with the clusters we have created, we can use them to see if there is any difference between the clusters given the different demographic information. Mostly, the boxplots showed consistent behavior over the different demographics, showing that any potential difference in behaviour was captured in the data and in some cases even showed that the different demographics was more highly represented in one cluster, or PC.  \n",
    "<hr style=\"height:.9px;border:none;color:#333;background-color:#333;\" />"
   ]
  },
  {
   "cell_type": "code",
   "execution_count": 40,
   "id": "ea4001e4",
   "metadata": {},
   "outputs": [
    {
     "data": {
      "image/png": "[encoded data removed]",
      "text/plain": [
       "<Figure size 864x576 with 1 Axes>"
      ]
     },
     "metadata": {
      "needs_background": "light"
     },
     "output_type": "display_data"
    }
   ],
   "source": [
    "# setting boxplot to analyze with demographics\n",
    "fig, ax = plt.subplots(figsize = (12, 8))\n",
    "sns.boxplot(x = 'q1_age',\n",
    "            y = 'Social_Butterflies',\n",
    "            hue = 'Cluster',\n",
    "            data = data_df)\n",
    "\n",
    "\n",
    "# formatting and displaying the plot\n",
    "plt.tight_layout()\n",
    "plt.show()"
   ]
  },
  {
   "cell_type": "markdown",
   "id": "4dde1d3d",
   "metadata": {},
   "source": [
    "Our hypotheses and assumptions was that with our clusters, age would not make that much of an variance. However, as this boxplot shows, there is a lot of varaiance between ages. There is a higher possibility of being a Social butterfly for the younger age-groups inside each cluster. \n",
    "\n",
    "Online streamers have a special large difference depending on age group. Here we could consider this group further into two groups, as they might should be treated differently, one with younger groups(>18 to 35-39) and one with older groups(40-44 to 65<). \n",
    "\n",
    "For the other features in our cluster, demographics did not make any distinguishable difference.\n",
    "<hr style=\"height:.9px;border:none;color:#333;background-color:#333;\" />"
   ]
  },
  {
   "cell_type": "code",
   "execution_count": 41,
   "id": "d04589b9",
   "metadata": {},
   "outputs": [
    {
     "data": {
      "text/plain": [
       "Index(['q1_age', 'q48_education', 'q49_married', 'Children_status', 'q54_race',\n",
       "       'q55_latino', 'q56_income', 'q57_gender', 'Cluster',\n",
       "       'Social_Butterflies', 'Introverted-tech_Savvy', 'EveryMan',\n",
       "       'Frugalish ', 'Old_Fashioned', 'Guardian_Angels', 'Dormant',\n",
       "       'Streamers', 'Early_Adapters', 'q4_music_sound', 'q4_TV_entertainment',\n",
       "       'q4_gaming', 'q4_social', 'q4_shopping', 'q4_news', 'q4_other',\n",
       "       'q4_none'],\n",
       "      dtype='object')"
      ]
     },
     "execution_count": 41,
     "metadata": {},
     "output_type": "execute_result"
    }
   ],
   "source": [
    "data_df.columns"
   ]
  },
  {
   "cell_type": "code",
   "execution_count": 42,
   "id": "431ddda2",
   "metadata": {},
   "outputs": [
    {
     "data": {
      "image/png": "[encoded data removed]",
      "text/plain": [
       "<Figure size 864x576 with 1 Axes>"
      ]
     },
     "metadata": {
      "needs_background": "light"
     },
     "output_type": "display_data"
    }
   ],
   "source": [
    "# setting boxplot to analyze with demographics\n",
    "fig, ax = plt.subplots(figsize = (12, 8))\n",
    "sns.boxplot(x = 'q57_gender',\n",
    "            y = 'Streamers',\n",
    "            hue = 'Cluster',\n",
    "            data = data_df)\n",
    "\n",
    "\n",
    "# formatting and displaying the plot\n",
    "plt.tight_layout()\n",
    "plt.show()"
   ]
  },
  {
   "cell_type": "markdown",
   "id": "f4b9cce4",
   "metadata": {},
   "source": [
    "# Persona Exemplified"
   ]
  },
  {
   "cell_type": "code",
   "execution_count": 43,
   "id": "623ab534",
   "metadata": {
    "scrolled": true
   },
   "outputs": [
    {
     "data": {
      "text/html": [
       "<div>\n",
       "<style scoped>\n",
       "    .dataframe tbody tr th:only-of-type {\n",
       "        vertical-align: middle;\n",
       "    }\n",
       "\n",
       "    .dataframe tbody tr th {\n",
       "        vertical-align: top;\n",
       "    }\n",
       "\n",
       "    .dataframe thead th {\n",
       "        text-align: right;\n",
       "    }\n",
       "</style>\n",
       "<table border=\"1\" class=\"dataframe\">\n",
       "  <thead>\n",
       "    <tr style=\"text-align: right;\">\n",
       "      <th></th>\n",
       "      <th>q1_age</th>\n",
       "      <th>q48_education</th>\n",
       "      <th>q49_married</th>\n",
       "      <th>Children_status</th>\n",
       "      <th>q54_race</th>\n",
       "      <th>q55_latino</th>\n",
       "      <th>q56_income</th>\n",
       "      <th>q57_gender</th>\n",
       "      <th>Cluster</th>\n",
       "      <th>Social_Butterflies</th>\n",
       "      <th>...</th>\n",
       "      <th>Streamers</th>\n",
       "      <th>Early_Adapters</th>\n",
       "      <th>q4_music_sound</th>\n",
       "      <th>q4_TV_entertainment</th>\n",
       "      <th>q4_gaming</th>\n",
       "      <th>q4_social</th>\n",
       "      <th>q4_shopping</th>\n",
       "      <th>q4_news</th>\n",
       "      <th>q4_other</th>\n",
       "      <th>q4_none</th>\n",
       "    </tr>\n",
       "  </thead>\n",
       "  <tbody>\n",
       "    <tr>\n",
       "      <th>7</th>\n",
       "      <td>40-44</td>\n",
       "      <td>College graduate</td>\n",
       "      <td>Married</td>\n",
       "      <td>children_between_13-17</td>\n",
       "      <td>White or Caucasian</td>\n",
       "      <td>Not Hispanic or Latino</td>\n",
       "      <td>90,000-$99,999</td>\n",
       "      <td>female</td>\n",
       "      <td>SoMe_App_Users</td>\n",
       "      <td>-2.55</td>\n",
       "      <td>...</td>\n",
       "      <td>0.98</td>\n",
       "      <td>0.88</td>\n",
       "      <td>0</td>\n",
       "      <td>0</td>\n",
       "      <td>0</td>\n",
       "      <td>1</td>\n",
       "      <td>0</td>\n",
       "      <td>1</td>\n",
       "      <td>0</td>\n",
       "      <td>0</td>\n",
       "    </tr>\n",
       "  </tbody>\n",
       "</table>\n",
       "<p>1 rows × 26 columns</p>\n",
       "</div>"
      ],
      "text/plain": [
       "  q1_age     q48_education q49_married         Children_status  \\\n",
       "7  40-44  College graduate     Married  children_between_13-17   \n",
       "\n",
       "             q54_race              q55_latino      q56_income q57_gender  \\\n",
       "7  White or Caucasian  Not Hispanic or Latino  90,000-$99,999     female   \n",
       "\n",
       "          Cluster  Social_Butterflies  ...  Streamers  Early_Adapters  \\\n",
       "7  SoMe_App_Users               -2.55  ...       0.98            0.88   \n",
       "\n",
       "   q4_music_sound  q4_TV_entertainment  q4_gaming  q4_social  q4_shopping  \\\n",
       "7               0                    0          0          1            0   \n",
       "\n",
       "   q4_news  q4_other  q4_none  \n",
       "7        1         0        0  \n",
       "\n",
       "[1 rows x 26 columns]"
      ]
     },
     "execution_count": 43,
     "metadata": {},
     "output_type": "execute_result"
    }
   ],
   "source": [
    "# Printing to get information about one persona inside cluster \"SoMe_App_Users\"\n",
    "data_df.iloc[[7]]"
   ]
  },
  {
   "cell_type": "code",
   "execution_count": 44,
   "id": "90c99199",
   "metadata": {},
   "outputs": [],
   "source": [
    "data_df.to_excel('./Cluster_dfdf.xlsx',\n",
    "                          index = True)"
   ]
  },
  {
   "cell_type": "markdown",
   "id": "41c9e2be",
   "metadata": {},
   "source": [
    "<strong> Example a SoMe App Users</strong> <br>\n",
    "A woman in her forties, Alison is balanced in her informed choices and knows what she wants. Though she is tech-savvy, Alison does not have too many apps, as she is quite selective on the apps she chooses to engage with. She enjoys social media as a source of amusement and connection, especially Facebook. Alison likes to observe and remain behind the scenes; however, she checks on her loved ones.\n",
    "Alison entertains herself with TV shows on Netflix, however, check the reviews on IMDB first. Regarding music, Alison enjoys highly personalized services like Pandora. \n",
    "\n",
    "<hr style=\"height:.9px;border:none;color:#333;background-color:#333;\" />"
   ]
  },
  {
   "cell_type": "markdown",
   "id": "e27e3b1b",
   "metadata": {},
   "source": [
    "# Key insights"
   ]
  },
  {
   "cell_type": "markdown",
   "id": "040c0c14",
   "metadata": {},
   "source": [
    "Our analysis shows that data of behaviour psychometrics can find more similarities than demographic filtering, showing the importance of making decisions based behavioural data. We can see that people are similar across demographics, however, there are exceptions. Therefore, we recommend marketing towards our three clusters that behave similarly. The following is our key insights for each cluster:  <br>\n",
    "\n",
    "<strong> SoMe app users</strong> <br>\n",
    "For “SoMe users” cluster, a personalized experience is an important factor, else, they tend to lose interest quickly. Since this group wants facts, it is better to target them with shorter advertisements, no more than 8 seconds.  <br><br>\n",
    "<strong> Online Streamers</strong> <br>\n",
    "Our analysis shows that 88% of this segment use social media like Facebook, YouTube, Pandora and Netflix to entertain themselves.  <br><br>\n",
    "<strong> Lifestyle app users</strong> <br>\n",
    "Users who use lifestyle apps are reasonable and use various apps at the same time without focusing on using only one app. They seem to like a little bit of everything.\n",
    "\n",
    "<hr style=\"height:.9px;border:none;color:#333;background-color:#333;\" />\n"
   ]
  },
  {
   "cell_type": "markdown",
   "id": "a6bd7bcd",
   "metadata": {},
   "source": [
    "# Recommendation"
   ]
  },
  {
   "cell_type": "markdown",
   "id": "0e5b8293",
   "metadata": {},
   "source": [
    "Based on the insights above, we strongly recommend the marketing development to use this information to treat clusters differently -  marketing the apps that fits their behavior, as this is much more efficient that  marketing to everyone equally. \n",
    "\n",
    "<strong>For the marketing department to drive engagement, conversion, and retention, we recommend:</strong> <br>\n",
    "1. Approach <strong>SoMe app users</strong> with apps that have a clear value, focusing on  personalization by adding features that enhance functionality. As they are short on time, advertisements should not exceed 8 seconds like teasers. Focusing on the design/logo of the app icon could be beneficial as the icon tends to visualize the app.<br><br>\n",
    "\n",
    "2. To target <strong>Online Streamers</strong>, advertise on the larger social media platforms where they spend most of their time. Focus on improving their algorithms. Implementing and enhancing a search engine optimization would help with the visibility of the business.<br><br>\n",
    "\n",
    "3. To aim to target the <strong>Lifestyle app users</strong>, due to them using a big range of apps, changing and switching between them, again it will be critical to target them with apps that have clear value and work in more than one particular group, such as QQ.\n",
    "<hr style=\"height:.9px;border:none;color:#333;background-color:#333;\" />"
   ]
  },
  {
   "cell_type": "markdown",
   "id": "8dca89cb",
   "metadata": {},
   "source": [
    "# Conclusion "
   ]
  },
  {
   "cell_type": "markdown",
   "id": "6054a65d",
   "metadata": {},
   "source": [
    "To help the marketing department target, convert and retain customers, the data regarding people and their opinion on apps was analyzed to find patterns. Through our Principal Component Analysis, 9 groups of characteristics were identified which were then further grouped into 3 main clusters; SoMe app users, Online Streamers, Lifestyle app users. Information about these groups helped us develop strategies for the clusters and recommendations such as improving customizability were proposed."
   ]
  },
  {
   "cell_type": "markdown",
   "id": "054cfb85",
   "metadata": {},
   "source": [
    "# List of References"
   ]
  },
  {
   "cell_type": "markdown",
   "id": "4e34a3ed",
   "metadata": {},
   "source": [
    "Cook, D.(October 2020). Smartphone App Developers. IBISworld. Retrieved from:\n",
    "https://my-ibisworld-com.hult.idm.oclc.org/us/en/industry-specialized/od5817/about#industry-definition <br><br>\n",
    "James, T(May 2015). Mobile app marketing insights: How consumers really find and use your apps. Google. Retrieved from:\n",
    "https://www.thinkwithgoogle.com/marketing-strategies/app-and-mobile/mobile-app-marketing-insights/ <br><br>\n",
    "Statista. (2021). Topic: Mobile app usage. Retrieved 14 December 2021, from https://www.statista.com/topics/1002/mobile-app-usage/ "
   ]
  }
 ],
 "metadata": {
  "kernelspec": {
   "display_name": "Python 3 (ipykernel)",
   "language": "python",
   "name": "python3"
  },
  "language_info": {
   "codemirror_mode": {
    "name": "ipython",
    "version": 3
   },
   "file_extension": ".py",
   "mimetype": "text/x-python",
   "name": "python",
   "nbconvert_exporter": "python",
   "pygments_lexer": "ipython3",
   "version": "3.8.8"
  },
  "toc": {
   "base_numbering": 1,
   "nav_menu": {},
   "number_sections": true,
   "sideBar": true,
   "skip_h1_title": false,
   "title_cell": "Table of Contents",
   "title_sidebar": "Contents",
   "toc_cell": false,
   "toc_position": {},
   "toc_section_display": true,
   "toc_window_display": true
  },
  "varInspector": {
   "cols": {
    "lenName": 16,
    "lenType": 16,
    "lenVar": 40
   },
   "kernels_config": {
    "python": {
     "delete_cmd_postfix": "",
     "delete_cmd_prefix": "del ",
     "library": "var_list.py",
     "varRefreshCmd": "print(var_dic_list())"
    },
    "r": {
     "delete_cmd_postfix": ") ",
     "delete_cmd_prefix": "rm(",
     "library": "var_list.r",
     "varRefreshCmd": "cat(var_dic_list()) "
    }
   },
   "types_to_exclude": [
    "module",
    "function",
    "builtin_function_or_method",
    "instance",
    "_Feature"
   ],
   "window_display": false
  }
 },
 "nbformat": 4,
 "nbformat_minor": 5
}
